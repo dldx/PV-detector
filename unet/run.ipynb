{
 "cells": [
  {
   "cell_type": "code",
   "execution_count": 4,
   "metadata": {},
   "outputs": [
    {
     "name": "stderr",
     "output_type": "stream",
     "text": [
      "Using TensorFlow backend.\n"
     ]
    }
   ],
   "source": [
    "# import os\n",
    "# os.chdir(\"./unet\")\n",
    "from config import *\n",
    "from unet_config import Config\n",
    "import os\n",
    "from keras.callbacks import ModelCheckpoint, TensorBoard\n",
    "from keras.optimizers import Adam, SGD\n",
    "from keras.callbacks import EarlyStopping, ReduceLROnPlateau\n",
    "import glob\n",
    "from PIL import Image\n",
    "import numpy as np\n",
    "from matplotlib import pyplot as plt\n",
    "\n",
    "#os.environ['CUDA_VISIBLE_DEVICES'] = ''"
   ]
  },
  {
   "cell_type": "code",
   "execution_count": 5,
   "metadata": {},
   "outputs": [],
   "source": [
    "config_unet = Config()"
   ]
  },
  {
   "cell_type": "code",
   "execution_count": 7,
   "metadata": {},
   "outputs": [],
   "source": [
    "num_training_images = len(glob.glob(TRAIN_IMAGE_FOLDER + SAT_IMAGE_FOLDER + \"/0/*.png\"))\n",
    "num_testing_images = len(glob.glob(TEST_IMAGE_FOLDER + SAT_IMAGE_FOLDER + \"/0/*.png\"))"
   ]
  },
  {
   "cell_type": "code",
   "execution_count": 8,
   "metadata": {},
   "outputs": [],
   "source": [
    "def get_image_data(num_images_to_get=32, normalise=True, image_folder = TRAIN_IMAGE_FOLDER):\n",
    "    # Get list of files\n",
    "    satellite_images = glob.glob(image_folder + SAT_IMAGE_FOLDER + \"/0/*.png\")\n",
    "    if normalise:\n",
    "        # first provide a sample of images for featurewise normalisation\n",
    "        X_sample, y_sample = next(get_image_data(num_images_to_get=1000, normalise=False))\n",
    "\n",
    "        mean_sat_color = np.mean(X_sample.reshape(X_sample.shape[0]*X_sample.shape[1]*X_sample.shape[2], 3), axis=0)\n",
    "        variance_sat_color = np.var(X_sample.reshape(X_sample.shape[0]*X_sample.shape[1]*X_sample.shape[2], 3), axis=0)\n",
    "\n",
    "        #mean_mask_color = np.mean(y_sample.reshape(y_sample.shape[0]*y_sample.shape[1]*y_sample.shape[2], 1), axis=0)\n",
    "        #variance_mask_color = np.var(y_sample.reshape(y_sample.shape[0]*y_sample.shape[1]*y_sample.shape[2], 1), axis=0)\n",
    "        \n",
    "        del X_sample\n",
    "        del y_sample\n",
    "\n",
    "    while True:\n",
    "        np.random.shuffle(satellite_images)\n",
    "\n",
    "        # Preallocate array of image stacks\n",
    "        satellite_stacked = np.zeros((num_images_to_get, 224, 224, 3), dtype=np.float32)\n",
    "        mask_stacked = np.zeros((num_images_to_get, 224, 224, 1), dtype=np.float32)\n",
    "\n",
    "        for i, image in enumerate(satellite_images[:num_images_to_get]):\n",
    "            image = image.split(\"/\")[-1]\n",
    "            satellite_stacked[i] = np.array(Image.open(image_folder + SAT_IMAGE_FOLDER + \"/0/\" + image))\n",
    "            mask_stacked[i] = np.array(Image.open(image_folder + MASK_IMAGE_FOLDER + \"/0/\" + image)).reshape(224,224, 1)/255.0\n",
    "\n",
    "        if normalise:\n",
    "            satellite_stacked = (satellite_stacked - mean_sat_color)/np.sqrt(variance_sat_color)\n",
    "            #mask_stacked = (mask_stacked - mean_mask_color)/np.sqrt(variance_mask_color)\n",
    "        yield satellite_stacked, mask_stacked"
   ]
  },
  {
   "cell_type": "code",
   "execution_count": 9,
   "metadata": {},
   "outputs": [],
   "source": [
    "from keras import backend as K\n",
    "\n",
    "def dice_coef(y_true, y_pred):\n",
    "    y_true_f = K.flatten(y_true)\n",
    "    y_pred_f = K.flatten(y_pred)\n",
    "    intersection = K.sum(y_true_f * y_pred_f)\n",
    "    return (2.0 * intersection + 1.0) / (K.sum(y_true_f) + K.sum(y_pred_f) + 1.0)\n",
    "\n",
    "def dice_coef_loss(y_true, y_pred):\n",
    "    return -dice_coef(y_true, y_pred)"
   ]
  },
  {
   "cell_type": "code",
   "execution_count": 11,
   "metadata": {},
   "outputs": [],
   "source": [
    "os.makedirs(WEIGHTS_FOLDER, exist_ok=True)\n",
    "model_checkpoint = ModelCheckpoint(os.path.join(WEIGHTS_FOLDER,'unet.hdf5'), monitor='dice_coef', save_best_only=True)\n",
    "tb_callback = TensorBoard(log_dir=LOGS_FOLDER, histogram_freq=0, batch_size=config_unet.BATCH_SIZE,\n",
    "                          write_graph=True, write_grads=False, write_images=True,\n",
    "                          embeddings_freq=0, embeddings_layer_names=None, embeddings_metadata=None)\n",
    "# start_time = time.time()"
   ]
  },
  {
   "cell_type": "code",
   "execution_count": null,
   "metadata": {},
   "outputs": [],
   "source": [
    "from model import get_vgg_7conv\n",
    "import metrics\n",
    "\n",
    "model = get_vgg_7conv(config_unet.ISZ, config_unet.N_CHANNELS, config_unet.NUM_CLASSES)\n",
    "\n",
    "model.compile(\n",
    "    optimizer=Adam(lr=0.001),\n",
    "     loss=dice_coef_loss,\n",
    "    metrics=[\n",
    "        metrics.jaccard_coef, metrics.jacard_coef_flat,\n",
    "        metrics.jaccard_coef_int, metrics.dice_coef, 'accuracy'\n",
    "    ])"
   ]
  },
  {
   "cell_type": "code",
   "execution_count": null,
   "metadata": {},
   "outputs": [
    {
     "name": "stderr",
     "output_type": "stream",
     "text": [
      "/usr/local/lib/python3.6/site-packages/keras/callbacks.py:999: UserWarning: `epsilon` argument is deprecated and will be removed, use `min_delta` instead.\n",
      "  warnings.warn('`epsilon` argument is deprecated and '\n"
     ]
    },
    {
     "name": "stdout",
     "output_type": "stream",
     "text": [
      "Epoch 1/80\n",
      "250/250 [==============================] - 386s 2s/step - loss: -0.8633 - jaccard_coef: 0.7434 - jacard_coef_flat: 0.7637 - jaccard_coef_int: 0.7468 - dice_coef: 0.8633 - acc: 0.9958 - val_loss: -0.8665 - val_jaccard_coef: 0.7447 - val_jacard_coef_flat: 0.7678 - val_jaccard_coef_int: 0.7458 - val_dice_coef: 0.8665 - val_acc: 0.9954\n",
      "Epoch 2/80\n",
      "250/250 [==============================] - 378s 2s/step - loss: -0.8603 - jaccard_coef: 0.7366 - jacard_coef_flat: 0.7593 - jaccard_coef_int: 0.7402 - dice_coef: 0.8603 - acc: 0.9956 - val_loss: -0.8587 - val_jaccard_coef: 0.7340 - val_jacard_coef_flat: 0.7552 - val_jaccard_coef_int: 0.7387 - val_dice_coef: 0.8587 - val_acc: 0.9957\n",
      "Epoch 3/80\n",
      "219/250 [=========================>....] - ETA: 43s - loss: -0.8564 - jaccard_coef: 0.7301 - jacard_coef_flat: 0.7544 - jaccard_coef_int: 0.7343 - dice_coef: 0.8564 - acc: 0.9957"
     ]
    }
   ],
   "source": [
    "model.fit_generator(\n",
    "    get_image_data(num_images_to_get=config_unet.BATCH_SIZE, image_folder=TRAIN_IMAGE_FOLDER),\n",
    "    epochs=80, verbose=True,\n",
    "    steps_per_epoch=int(num_training_images/config_unet.BATCH_SIZE)//50*50,\n",
    "    validation_data=get_image_data(num_images_to_get=config_unet.BATCH_SIZE, image_folder=TEST_IMAGE_FOLDER),\n",
    "    validation_steps=int(num_testing_images/config_unet.BATCH_SIZE)//50*50,\n",
    "    callbacks=[model_checkpoint,\n",
    "               tb_callback,\n",
    "               ReduceLROnPlateau(monitor='val_dice_coef', factor=0.5, patience=5, min_lr=1e-9, epsilon=0.00001, verbose=1, mode='max')])"
   ]
  },
  {
   "cell_type": "code",
   "execution_count": 20,
   "metadata": {},
   "outputs": [],
   "source": [
    "model.save(\"model.h5\")"
   ]
  },
  {
   "cell_type": "code",
   "execution_count": null,
   "metadata": {},
   "outputs": [],
   "source": []
  }
 ],
 "metadata": {
  "jupytext_format_version": "1.1",
  "kernelspec": {
   "display_name": "Python 3",
   "language": "python",
   "name": "python3"
  },
  "language_info": {
   "codemirror_mode": {
    "name": "ipython",
    "version": 3
   },
   "file_extension": ".py",
   "mimetype": "text/x-python",
   "name": "python",
   "nbconvert_exporter": "python",
   "pygments_lexer": "ipython3",
   "version": "3.6.5"
  }
 },
 "nbformat": 4,
 "nbformat_minor": 2
}
