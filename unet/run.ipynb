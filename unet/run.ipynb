{
 "cells": [
  {
   "cell_type": "code",
   "execution_count": 1,
   "metadata": {},
   "outputs": [
    {
     "name": "stderr",
     "output_type": "stream",
     "text": [
      "Using TensorFlow backend.\n"
     ]
    }
   ],
   "source": [
    "from model import get_unet\n",
    "from config import *\n",
    "from unet_config import Config"
   ]
  },
  {
   "cell_type": "code",
   "execution_count": 2,
   "metadata": {},
   "outputs": [
    {
     "name": "stdout",
     "output_type": "stream",
     "text": [
      "[[22. 28.]\n",
      " [49. 64.]]\n"
     ]
    }
   ],
   "source": [
    "# Test if on GPU or not (shows up in terminal)\n",
    "import tensorflow as tf\n",
    "# Creates a graph.\n",
    "a = tf.constant([1.0, 2.0, 3.0, 4.0, 5.0, 6.0], shape=[2, 3], name='a')\n",
    "b = tf.constant([1.0, 2.0, 3.0, 4.0, 5.0, 6.0], shape=[3, 2], name='b')\n",
    "c = tf.matmul(a, b)\n",
    "# Creates a session with log_device_placement set to True.\n",
    "sess = tf.Session(config=tf.ConfigProto(log_device_placement=True))\n",
    "# Runs the op.\n",
    "print(sess.run(c))\n"
   ]
  },
  {
   "cell_type": "code",
   "execution_count": 3,
   "metadata": {},
   "outputs": [],
   "source": [
    "from keras.preprocessing.image import ImageDataGenerator"
   ]
  },
  {
   "cell_type": "code",
   "execution_count": 4,
   "metadata": {},
   "outputs": [],
   "source": [
    "# def get_dataset(image_folder):\n",
    "import glob\n",
    "import os\n",
    "from PIL import Image\n",
    "import numpy as np\n",
    "from matplotlib import pyplot as plt"
   ]
  },
  {
   "cell_type": "code",
   "execution_count": 5,
   "metadata": {},
   "outputs": [],
   "source": [
    "def get_image_data(sample=False):\n",
    "    # Get list of files\n",
    "    satellite_images = glob.glob(TRAIN_IMAGE_FOLDER + SAT_IMAGE_FOLDER + \"/*.png\")\n",
    "    np.random.shuffle(satellite_images)\n",
    "    if sample:\n",
    "        num_images_to_get = max(1000, len(satellite_images)/100)\n",
    "    else:\n",
    "        num_images_to_get = len(satellite_images)\n",
    "\n",
    "    # Preallocate array of image stacks\n",
    "    satellite_stacked = np.zeros((num_images_to_get, 224, 224, 3), dtype=np.int32)\n",
    "    mask_stacked = np.zeros((num_images_to_get, 224, 224, 1), dtype=np.int32)\n",
    "\n",
    "    for i, image in enumerate(satellite_images[:num_images_to_get]):\n",
    "        image = image.split(\"/\")[-1]\n",
    "        satellite_stacked[i] = np.array(Image.open(TRAIN_IMAGE_FOLDER + SAT_IMAGE_FOLDER + image))\n",
    "        mask_stacked[i] = np.array(Image.open(TRAIN_IMAGE_FOLDER + MASK_IMAGE_FOLDER + image)).reshape(224,224, 1)\n",
    "\n",
    "    return satellite_stacked, mask_stacked"
   ]
  },
  {
   "cell_type": "code",
   "execution_count": 6,
   "metadata": {},
   "outputs": [],
   "source": [
    "# we create two instances with the same arguments\n",
    "data_gen_args = dict(featurewise_center=True, featurewise_std_normalization=True)\n",
    "sat_image_datagen = ImageDataGenerator(**data_gen_args)\n",
    "mask_datagen = ImageDataGenerator(**data_gen_args)"
   ]
  },
  {
   "cell_type": "code",
   "execution_count": 7,
   "metadata": {},
   "outputs": [],
   "source": [
    "# Provide the same seed and keyword arguments to the fit and flow methods\n",
    "seed = 42"
   ]
  },
  {
   "cell_type": "code",
   "execution_count": 8,
   "metadata": {},
   "outputs": [
    {
     "name": "stdout",
     "output_type": "stream",
     "text": [
      "Found 7000 images belonging to 1 classes.\n"
     ]
    }
   ],
   "source": [
    "# first provide a sample of images for featurewise normalisation\n",
    "X_sample, y_sample = get_image_data(sample=True)\n",
    "sat_image_datagen.fit(X_sample, augment=False, seed=seed)\n",
    "mask_datagen.fit(y_sample, augment=False, seed=seed)\n",
    "TRAIN_IMAGE_FOLDER + SAT_IMAGE_FOLDER\n",
    "sat_image_generator = sat_image_datagen.flow_from_directory(\n",
    "    TRAIN_IMAGE_FOLDER + SAT_IMAGE_FOLDER,\n",
    "    target_size=TILE_SIZE,\n",
    "    follow_links=True,\n",
    "    color_mode=\"rgb\",\n",
    "    class_mode=None,\n",
    "    seed=seed)"
   ]
  },
  {
   "cell_type": "code",
   "execution_count": 9,
   "metadata": {},
   "outputs": [
    {
     "name": "stdout",
     "output_type": "stream",
     "text": [
      "Found 7000 images belonging to 1 classes.\n"
     ]
    }
   ],
   "source": [
    "mask_generator = mask_datagen.flow_from_directory(\n",
    "    TRAIN_IMAGE_FOLDER + MASK_IMAGE_FOLDER,\n",
    "    target_size=TILE_SIZE,\n",
    "    follow_links=True,\n",
    "    color_mode=\"grayscale\",\n",
    "    class_mode=None,\n",
    "    seed=seed)"
   ]
  },
  {
   "cell_type": "code",
   "execution_count": 11,
   "metadata": {},
   "outputs": [],
   "source": [
    "import itertools"
   ]
  },
  {
   "cell_type": "code",
   "execution_count": 12,
   "metadata": {},
   "outputs": [],
   "source": [
    "# combine generators into one which yields image and masks\n",
    "train_generator = itertools.islice(zip(sat_image_generator, mask_generator), 100)"
   ]
  },
  {
   "cell_type": "code",
   "execution_count": null,
   "metadata": {},
   "outputs": [],
   "source": [
    "model = get_unet(Config(), loss_mode=\"bce\")\n",
    "model.fit_generator(\n",
    "    train_generator,\n",
    "    steps_per_epoch=20,\n",
    "    epochs=1, verbose=True)"
   ]
  },
  {
   "cell_type": "code",
   "execution_count": null,
   "metadata": {},
   "outputs": [],
   "source": []
  }
 ],
 "metadata": {
  "kernelspec": {
   "display_name": "Python [default]",
   "language": "python",
   "name": "python3"
  },
  "language_info": {
   "codemirror_mode": {
    "name": "ipython",
    "version": 3
   },
   "file_extension": ".py",
   "mimetype": "text/x-python",
   "name": "python",
   "nbconvert_exporter": "python",
   "pygments_lexer": "ipython3",
   "version": "3.6.6"
  },
  "main_language": "python"
 },
 "nbformat": 4,
 "nbformat_minor": 2
}
