{
 "cells": [
  {
   "cell_type": "code",
   "execution_count": 1,
   "metadata": {},
   "outputs": [],
   "source": [
    "#import imgaug\n",
    "import pandas as pd\n",
    "import os\n",
    "import glob\n",
    "import shutil\n",
    "from sklearn.model_selection import train_test_split\n",
    "\n",
    "from config import *"
   ]
  },
  {
   "cell_type": "markdown",
   "metadata": {},
   "source": [
    "### Load images"
   ]
  },
  {
   "cell_type": "code",
   "execution_count": 2,
   "metadata": {},
   "outputs": [],
   "source": [
    "image_filenames = [file.replace(TILES_FOLDER + SAT_IMAGE_FOLDER, \"\") for file in glob.glob(TILES_FOLDER + SAT_IMAGE_FOLDER + \"/*.png\")]"
   ]
  },
  {
   "cell_type": "markdown",
   "metadata": {},
   "source": [
    "### Split images into train and test"
   ]
  },
  {
   "cell_type": "code",
   "execution_count": 7,
   "metadata": {
    "lines_to_next_cell": 2
   },
   "outputs": [
    {
     "data": {
      "text/plain": [
       "[None, None, None, None]"
      ]
     },
     "execution_count": 7,
     "metadata": {},
     "output_type": "execute_result"
    }
   ],
   "source": [
    "train_set, test_set = train_test_split(image_filenames, test_size=TRAIN_TEST_RATIO, random_state=42)\n",
    "[os.makedirs(folder, exist_ok=True) for folder in [TRAIN_IMAGE_FOLDER + SAT_IMAGE_FOLDER + \"/0/\", TEST_IMAGE_FOLDER + SAT_IMAGE_FOLDER + \"/0/\",\n",
    "                                                 TRAIN_IMAGE_FOLDER + MASK_IMAGE_FOLDER  + \"/0/\", TEST_IMAGE_FOLDER + MASK_IMAGE_FOLDER + \"/0/\"]]"
   ]
  },
  {
   "cell_type": "code",
   "execution_count": 31,
   "metadata": {},
   "outputs": [],
   "source": [
    "# Move images into relevant directories\n",
    "for image_name in train_set:\n",
    "    shutil.move(TILES_FOLDER + SAT_IMAGE_FOLDER + image_name, TRAIN_IMAGE_FOLDER + SAT_IMAGE_FOLDER + \"/0/\" + image_name)\n",
    "    shutil.move(TILES_FOLDER + MASK_IMAGE_FOLDER + image_name, TRAIN_IMAGE_FOLDER + MASK_IMAGE_FOLDER + \"/0/\" + image_name)\n",
    "    \n",
    "for image_name in test_set:\n",
    "    shutil.move(TILES_FOLDER + SAT_IMAGE_FOLDER + image_name, TEST_IMAGE_FOLDER + SAT_IMAGE_FOLDER + \"/0/\" + image_name)\n",
    "    shutil.move(TILES_FOLDER + MASK_IMAGE_FOLDER + image_name, TEST_IMAGE_FOLDER + MASK_IMAGE_FOLDER +  \"/0/\" + image_name)\n",
    "    "
   ]
  }
 ],
 "metadata": {
  "jupytext_formats": "ipynb,py",
  "kernelspec": {
   "display_name": "Python 3",
   "language": "python",
   "name": "python3"
  },
  "language_info": {
   "codemirror_mode": {
    "name": "ipython",
    "version": 3
   },
   "file_extension": ".py",
   "mimetype": "text/x-python",
   "name": "python",
   "nbconvert_exporter": "python",
   "pygments_lexer": "ipython3",
   "version": "3.6.5"
  }
 },
 "nbformat": 4,
 "nbformat_minor": 2
}
