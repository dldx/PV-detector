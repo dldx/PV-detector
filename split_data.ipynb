{
 "cells": [
  {
   "cell_type": "code",
   "execution_count": 1,
   "metadata": {},
   "outputs": [],
   "source": [
    "#import imgaug\n",
    "import pandas as pd\n",
    "import os\n",
    "import glob\n",
    "import shutil\n",
    "from sklearn.model_selection import train_test_split\n",
    "\n",
    "from config import *"
   ]
  },
  {
   "cell_type": "markdown",
   "metadata": {},
   "source": [
    "### Load images"
   ]
  },
  {
   "cell_type": "code",
   "execution_count": 2,
   "metadata": {},
   "outputs": [],
   "source": [
    "image_filenames = [file.replace(TILES_FOLDER + SAT_IMAGE_FOLDER, \"\") for file in glob.glob(TILES_FOLDER + SAT_IMAGE_FOLDER + \"/*.png\")]"
   ]
  },
  {
   "cell_type": "markdown",
   "metadata": {},
   "source": [
    "### Split images into train and test"
   ]
  },
  {
   "cell_type": "code",
   "execution_count": 7,
   "metadata": {
    "lines_to_next_cell": 2
   },
   "outputs": [
    {
     "data": {
      "text/plain": [
       "[None, None, None, None]"
      ]
     },
     "execution_count": 7,
     "metadata": {},
     "output_type": "execute_result"
    }
   ],
   "source": [
    "train_set, test_set = train_test_split(image_filenames, test_size=TRAIN_TEST_RATIO, random_state=42)\n",
    "[os.makedirs(folder, exist_ok=True) for folder in [TRAIN_IMAGE_FOLDER + SAT_IMAGE_FOLDER + \"/0/\", TEST_IMAGE_FOLDER + SAT_IMAGE_FOLDER + \"/0/\",\n",
    "                                                 TRAIN_IMAGE_FOLDER + MASK_IMAGE_FOLDER  + \"/0/\", TEST_IMAGE_FOLDER + MASK_IMAGE_FOLDER + \"/0/\"]]"
   ]
  },
  {
   "cell_type": "code",
   "execution_count": 31,
   "metadata": {},
   "outputs": [],
   "source": [
    "# Move images into relevant directories\n",
    "for image_name in train_set:\n",
    "    shutil.move(TILES_FOLDER + SAT_IMAGE_FOLDER + image_name, TRAIN_IMAGE_FOLDER + SAT_IMAGE_FOLDER + \"/0/\" + image_name)\n",
    "    shutil.move(TILES_FOLDER + MASK_IMAGE_FOLDER + image_name, TRAIN_IMAGE_FOLDER + MASK_IMAGE_FOLDER + \"/0/\" + image_name)\n",
    "    \n",
    "\n",
    "    \n",
    "for image_name in test_set:\n",
    "    shutil.move(TILES_FOLDER + SAT_IMAGE_FOLDER + image_name, TEST_IMAGE_FOLDER + SAT_IMAGE_FOLDER + \"/0/\" + image_name)\n",
    "    shutil.move(TILES_FOLDER + MASK_IMAGE_FOLDER + image_name, TEST_IMAGE_FOLDER + MASK_IMAGE_FOLDER +  \"/0/\" + image_name)\n",
    "    "
   ]
  },
  {
   "cell_type": "markdown",
   "metadata": {},
   "source": [
    "### Load tile details"
   ]
  },
  {
   "cell_type": "code",
   "execution_count": 5,
   "metadata": {},
   "outputs": [],
   "source": [
    "tile_details = pd.read_csv(TILES_FOLDER + \"/tile_details.csv\")"
   ]
  },
  {
   "cell_type": "markdown",
   "metadata": {},
   "source": [
    "Fraction of tiles that contain PVs"
   ]
  },
  {
   "cell_type": "code",
   "execution_count": 118,
   "metadata": {},
   "outputs": [
    {
     "data": {
      "text/plain": [
       "0.04825738360433438"
      ]
     },
     "execution_count": 118,
     "metadata": {},
     "output_type": "execute_result"
    }
   ],
   "source": [
    "len(tile_details[tile_details.num_pv_pixels > 0])/len(tile_details)"
   ]
  },
  {
   "cell_type": "code",
   "execution_count": 119,
   "metadata": {},
   "outputs": [],
   "source": [
    "tiles_with_PV = tile_details[tile_details.num_pv_pixels > 0].tile_image_names"
   ]
  },
  {
   "cell_type": "code",
   "execution_count": 115,
   "metadata": {},
   "outputs": [],
   "source": [
    "#shutil.rmtree(TILES_FOLDER + \"/PV/test/\" + SAT_IMAGE_FOLDER + \"/0/\")\n",
    "#shutil.rmtree(TILES_FOLDER + \"/PV/test/\" + MASK_IMAGE_FOLDER + \"/0/\")\n",
    "\n",
    "os.makedirs(TILES_FOLDER + \"/PV/test/\" + SAT_IMAGE_FOLDER + \"/0/\", exist_ok=True)\n",
    "os.makedirs(TILES_FOLDER + \"/PV/test/\" + MASK_IMAGE_FOLDER + \"/0/\", exist_ok=True)"
   ]
  },
  {
   "cell_type": "code",
   "execution_count": 75,
   "metadata": {},
   "outputs": [],
   "source": [
    "from PIL import Image\n",
    "import numpy as np\n",
    "from matplotlib import pyplot as plt"
   ]
  },
  {
   "cell_type": "code",
   "execution_count": 120,
   "metadata": {},
   "outputs": [],
   "source": [
    "for tile_image_name in tiles_with_PV:\n",
    "    try:\n",
    "        if os.path.exists(TEST_IMAGE_FOLDER + MASK_IMAGE_FOLDER + \"/0/\" + tile_image_name):\n",
    "            shutil.copyfile(TEST_IMAGE_FOLDER + SAT_IMAGE_FOLDER + \"/0/\" + tile_image_name, TILES_FOLDER + \"/PV/test/\" + SAT_IMAGE_FOLDER + \"/0/\" + tile_image_name)\n",
    "            im = np.array(Image.open(TEST_IMAGE_FOLDER + MASK_IMAGE_FOLDER + \"/0/\" + tile_image_name))\n",
    "            im[im == 1] = 255\n",
    "            Image.fromarray(im.astype('uint8')).save(TILES_FOLDER + \"/PV/test/\" + MASK_IMAGE_FOLDER + \"/0/\" + tile_image_name)\n",
    "    except FileNotFoundError:\n",
    "        pass"
   ]
  },
  {
   "cell_type": "code",
   "execution_count": 121,
   "metadata": {},
   "outputs": [],
   "source": [
    "for tile_image_name in tiles_with_PV:\n",
    "    try:\n",
    "        if os.path.exists(TRAIN_IMAGE_FOLDER + MASK_IMAGE_FOLDER + \"/0/\" + tile_image_name):\n",
    "            shutil.copyfile(TRAIN_IMAGE_FOLDER + SAT_IMAGE_FOLDER + \"/0/\" + tile_image_name, TILES_FOLDER + \"/PV/train/\" + SAT_IMAGE_FOLDER + \"/0/\" + tile_image_name)\n",
    "            im = np.array(Image.open(TRAIN_IMAGE_FOLDER + MASK_IMAGE_FOLDER + \"/0/\" + tile_image_name))\n",
    "            im[im == 1] = 255\n",
    "            Image.fromarray(im.astype('uint8')).save(TILES_FOLDER + \"/PV/train/\" + MASK_IMAGE_FOLDER + \"/0/\" + tile_image_name)\n",
    "    except FileNotFoundError:\n",
    "        pass"
   ]
  }
 ],
 "metadata": {
  "jupytext_formats": "ipynb,py",
  "kernelspec": {
   "display_name": "Python 3",
   "language": "python",
   "name": "python3"
  },
  "language_info": {
   "codemirror_mode": {
    "name": "ipython",
    "version": 3
   },
   "file_extension": ".py",
   "mimetype": "text/x-python",
   "name": "python",
   "nbconvert_exporter": "python",
   "pygments_lexer": "ipython3",
   "version": "3.6.5"
  }
 },
 "nbformat": 4,
 "nbformat_minor": 2
}
